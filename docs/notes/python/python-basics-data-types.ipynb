{
 "cells": [
  {
   "cell_type": "markdown",
   "metadata": {},
   "source": [
    "Title: Python Basics: Data Types\n",
    "Date: 2017-10-26 13:26\n",
    "Modified: 2017-10-30 13:26\n",
    "Category: Python\n",
    "Tags: python, basics\n",
    "Slug: python-basics-data-types\n",
    "Authors: Max\n",
    "Summary: Integers, floats, and strings."
   ]
  },
  {
   "cell_type": "markdown",
   "metadata": {},
   "source": [
    "## Integer"
   ]
  },
  {
   "cell_type": "code",
   "execution_count": 1,
   "metadata": {},
   "outputs": [
    {
     "name": "stdout",
     "output_type": "stream",
     "text": [
      "2 <type 'int'>\n",
      "0 <type 'int'>\n",
      "2 <type 'int'>\n"
     ]
    }
   ],
   "source": [
    "print 2, type(2)\n",
    "print 2/6, type(2/6)\n",
    "print 2%6, type(2%6)"
   ]
  },
  {
   "cell_type": "markdown",
   "metadata": {},
   "source": [
    " \n",
    "  "
   ]
  },
  {
   "cell_type": "markdown",
   "metadata": {},
   "source": [
    "## Float"
   ]
  },
  {
   "cell_type": "code",
   "execution_count": 2,
   "metadata": {},
   "outputs": [
    {
     "name": "stdout",
     "output_type": "stream",
     "text": [
      "2.0 <type 'float'>\n",
      "2.6 <type 'float'>\n",
      "0.333333333333 <type 'float'>\n",
      "0.333333333333 <type 'float'>\n",
      "2.0 <type 'float'>\n",
      "2.0 <type 'float'>\n"
     ]
    }
   ],
   "source": [
    "print 2., type(2.)\n",
    "print 2.6, type(2.6)\n",
    "print 2./6, type(2./6)\n",
    "print 2/6., type(2/6.)\n",
    "print 2.%6, type(2.%6)\n",
    "print 2%6., type(2%6.)"
   ]
  },
  {
   "cell_type": "markdown",
   "metadata": {},
   "source": [
    " \n",
    "  "
   ]
  },
  {
   "cell_type": "markdown",
   "metadata": {},
   "source": [
    "## String"
   ]
  },
  {
   "cell_type": "code",
   "execution_count": 3,
   "metadata": {},
   "outputs": [
    {
     "name": "stdout",
     "output_type": "stream",
     "text": [
      "green tea <type 'str'>\n",
      "green tea <type 'str'>\n",
      "123 <type 'str'>\n"
     ]
    }
   ],
   "source": [
    "print 'green tea', type('green tea')\n",
    "print \"green tea\", type(\"green tea\")\n",
    "print '123', type('123')"
   ]
  }
 ],
 "metadata": {
  "kernelspec": {
   "display_name": "Python 2",
   "language": "python",
   "name": "python2"
  },
  "language_info": {
   "codemirror_mode": {
    "name": "ipython",
    "version": 2
   },
   "file_extension": ".py",
   "mimetype": "text/x-python",
   "name": "python",
   "nbconvert_exporter": "python",
   "pygments_lexer": "ipython2",
   "version": "2.7.13"
  }
 },
 "nbformat": 4,
 "nbformat_minor": 1
}
