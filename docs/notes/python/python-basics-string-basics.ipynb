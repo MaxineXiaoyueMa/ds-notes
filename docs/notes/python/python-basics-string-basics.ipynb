{
 "cells": [
  {
   "cell_type": "markdown",
   "metadata": {},
   "source": [
    "Title: Python Basics: String Basics\n",
    "Date: 2017-10-26 13:26\n",
    "Modified: 2017-10-30 13:26\n",
    "Category: Python\n",
    "Tags: python, basics, string\n",
    "Slug: python-basics-string-basics\n",
    "Authors: Xiaoyue MA\n",
    "Summary: Basic string property and operations."
   ]
  },
  {
   "cell_type": "markdown",
   "metadata": {},
   "source": [
    "## Creating a String"
   ]
  },
  {
   "cell_type": "code",
   "execution_count": 1,
   "metadata": {},
   "outputs": [
    {
     "name": "stdout",
     "output_type": "stream",
     "text": [
      "string <type 'str'>\n",
      "string <type 'str'>\n",
      "3.14 <type 'str'>\n"
     ]
    }
   ],
   "source": [
    "# three ways of creating a string\n",
    "\n",
    "a = 'string'\n",
    "b = \"string\"\n",
    "c = str(3.14)\n",
    "\n",
    "print a, type(a)\n",
    "print b, type(b)\n",
    "print c, type(c)"
   ]
  },
  {
   "cell_type": "code",
   "execution_count": 2,
   "metadata": {},
   "outputs": [
    {
     "name": "stdout",
     "output_type": "stream",
     "text": [
      "A sentence can be madelike this!\n"
     ]
    }
   ],
   "source": [
    "# concatenation using \"+\"\n",
    "\n",
    "s = 'A ' + 'sentence ' + 'can '+'be made' + 'like this!'\n",
    "print s"
   ]
  },
  {
   "cell_type": "markdown",
   "metadata": {},
   "source": [
    "## String Indexing"
   ]
  },
  {
   "cell_type": "code",
   "execution_count": 3,
   "metadata": {},
   "outputs": [
    {
     "name": "stdout",
     "output_type": "stream",
     "text": [
      "i\n"
     ]
    }
   ],
   "source": [
    "# to locate a specific letter in a string\n",
    "# python index starts with 0\n",
    "\n",
    "a_letter = 'string'[3] \n",
    "print a_letter"
   ]
  },
  {
   "cell_type": "markdown",
   "metadata": {},
   "source": [
    "## Basic String Methods"
   ]
  },
  {
   "cell_type": "code",
   "execution_count": 4,
   "metadata": {},
   "outputs": [
    {
     "name": "stdout",
     "output_type": "stream",
     "text": [
      "True\n",
      "False\n"
     ]
    }
   ],
   "source": [
    "# Check whether the string is made of letters\n",
    "\n",
    "n = \"Great\"\n",
    "y = \"Gr8\"\n",
    "\n",
    "print n.isalpha()\n",
    "print y.isalpha()"
   ]
  },
  {
   "cell_type": "code",
   "execution_count": 5,
   "metadata": {},
   "outputs": [
    {
     "name": "stdout",
     "output_type": "stream",
     "text": [
      "LOWER lower\n",
      "UPPER upper\n",
      "MIXED mixed\n"
     ]
    }
   ],
   "source": [
    "# Convert string to lower or upper cases\n",
    "\n",
    "l = 'lower'\n",
    "u = 'UPPER'\n",
    "m = 'mIxEd'\n",
    "\n",
    "print l.upper(), l.lower()\n",
    "print u.upper(), u.lower()\n",
    "print m.upper(), m.lower()"
   ]
  },
  {
   "cell_type": "markdown",
   "metadata": {},
   "source": [
    "## String Formatting"
   ]
  },
  {
   "cell_type": "code",
   "execution_count": 6,
   "metadata": {
    "scrolled": true
   },
   "outputs": [
    {
     "name": "stdout",
     "output_type": "stream",
     "text": [
      "Another Way to create string, which is called string formatting\n",
      "FYI: https://docs.python.org/2/library/stdtypes.html#string-formatting.\n"
     ]
    }
   ],
   "source": [
    "# %s\n",
    "s = 'string'\n",
    "\n",
    "print \"Another Way to create %s, which is called %s formatting\" %(a, a)\n",
    "print \"FYI: %s.\" %('https://docs.python.org/2/library/stdtypes.html#string-formatting')"
   ]
  }
 ],
 "metadata": {
  "kernelspec": {
   "display_name": "Python 2",
   "language": "python",
   "name": "python2"
  },
  "language_info": {
   "codemirror_mode": {
    "name": "ipython",
    "version": 2
   },
   "file_extension": ".py",
   "mimetype": "text/x-python",
   "name": "python",
   "nbconvert_exporter": "python",
   "pygments_lexer": "ipython2",
   "version": "2.7.13"
  }
 },
 "nbformat": 4,
 "nbformat_minor": 1
}
