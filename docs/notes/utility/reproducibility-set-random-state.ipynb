{
 "cells": [
  {
   "cell_type": "markdown",
   "metadata": {},
   "source": [
    "# numpy random seed vs. sklean random_state"
   ]
  },
  {
   "cell_type": "code",
   "execution_count": 1,
   "metadata": {},
   "outputs": [],
   "source": [
    "import numpy as np\n",
    "from sklearn.model_selection import KFold"
   ]
  },
  {
   "cell_type": "code",
   "execution_count": 13,
   "metadata": {},
   "outputs": [],
   "source": [
    "random_seed = 1"
   ]
  },
  {
   "cell_type": "code",
   "execution_count": 14,
   "metadata": {},
   "outputs": [],
   "source": [
    "np.random.seed(random_seed)"
   ]
  },
  {
   "cell_type": "code",
   "execution_count": 15,
   "metadata": {},
   "outputs": [],
   "source": [
    "X = range(10)"
   ]
  },
  {
   "cell_type": "markdown",
   "metadata": {},
   "source": [
    "### No random_state"
   ]
  },
  {
   "cell_type": "code",
   "execution_count": 5,
   "metadata": {},
   "outputs": [
    {
     "name": "stdout",
     "output_type": "stream",
     "text": [
      "[0 1 2 3 4 7 8 9] [5 6]\n",
      "[0 1 2 3 5 6 7 9] [4 8]\n",
      "[0 1 3 4 5 6 7 8] [2 9]\n",
      "[1 2 4 5 6 7 8 9] [0 3]\n",
      "[0 2 3 4 5 6 8 9] [1 7]\n"
     ]
    }
   ],
   "source": [
    "cv = KFold(n_splits = 5, shuffle = True)\n",
    "for tr_ix, te_ix in cv.split(X):\n",
    "    print (tr_ix, te_ix)"
   ]
  },
  {
   "cell_type": "code",
   "execution_count": 6,
   "metadata": {},
   "outputs": [
    {
     "name": "stdout",
     "output_type": "stream",
     "text": [
      "[0 1 2 3 4 5 7 9] [6 8]\n",
      "[0 2 3 4 5 6 8 9] [1 7]\n",
      "[0 1 2 4 5 6 7 8] [3 9]\n",
      "[1 2 3 4 6 7 8 9] [0 5]\n",
      "[0 1 3 5 6 7 8 9] [2 4]\n"
     ]
    }
   ],
   "source": [
    "cv = KFold(n_splits = 5, shuffle = True)\n",
    "for tr_ix, te_ix in cv.split(X):\n",
    "    print (tr_ix, te_ix)"
   ]
  },
  {
   "cell_type": "markdown",
   "metadata": {},
   "source": [
    "### With random_state"
   ]
  },
  {
   "cell_type": "code",
   "execution_count": 9,
   "metadata": {},
   "outputs": [
    {
     "name": "stdout",
     "output_type": "stream",
     "text": [
      "[0 1 3 4 5 6 7 8] [2 9]\n",
      "[0 1 2 3 5 7 8 9] [4 6]\n",
      "[1 2 4 5 6 7 8 9] [0 3]\n",
      "[0 2 3 4 5 6 8 9] [1 7]\n",
      "[0 1 2 3 4 6 7 9] [5 8]\n"
     ]
    }
   ],
   "source": [
    "cv = KFold(n_splits = 5, shuffle = True, random_state = 1)\n",
    "for tr_ix, te_ix in cv.split(X):\n",
    "    print (tr_ix, te_ix)"
   ]
  },
  {
   "cell_type": "code",
   "execution_count": 8,
   "metadata": {},
   "outputs": [
    {
     "name": "stdout",
     "output_type": "stream",
     "text": [
      "[0 1 3 4 5 6 7 8] [2 9]\n",
      "[0 1 2 3 5 7 8 9] [4 6]\n",
      "[1 2 4 5 6 7 8 9] [0 3]\n",
      "[0 2 3 4 5 6 8 9] [1 7]\n",
      "[0 1 2 3 4 6 7 9] [5 8]\n"
     ]
    }
   ],
   "source": [
    "cv = KFold(n_splits = 5, shuffle = True, random_state = 1)\n",
    "for tr_ix, te_ix in cv.split(X):\n",
    "    print (tr_ix, te_ix)"
   ]
  },
  {
   "cell_type": "markdown",
   "metadata": {},
   "source": [
    "### Using np.random.seed"
   ]
  },
  {
   "cell_type": "code",
   "execution_count": 10,
   "metadata": {},
   "outputs": [
    {
     "name": "stdout",
     "output_type": "stream",
     "text": [
      "[0 1 3 4 5 6 7 8] [2 9]\n",
      "[0 1 2 3 5 7 8 9] [4 6]\n",
      "[1 2 4 5 6 7 8 9] [0 3]\n",
      "[0 2 3 4 5 6 8 9] [1 7]\n",
      "[0 1 2 3 4 6 7 9] [5 8]\n"
     ]
    }
   ],
   "source": [
    "np.random.seed(1)\n",
    "cv = KFold(n_splits = 5, shuffle = True)\n",
    "for tr_ix, te_ix in cv.split(X):\n",
    "    print (tr_ix, te_ix)"
   ]
  },
  {
   "cell_type": "markdown",
   "metadata": {},
   "source": [
    "### Without either random seed or random state"
   ]
  },
  {
   "cell_type": "code",
   "execution_count": 11,
   "metadata": {},
   "outputs": [
    {
     "name": "stdout",
     "output_type": "stream",
     "text": [
      "[0 1 2 3 4 6 7 8] [5 9]\n",
      "[1 2 4 5 6 7 8 9] [0 3]\n",
      "[0 1 2 3 5 6 7 9] [4 8]\n",
      "[0 3 4 5 6 7 8 9] [1 2]\n",
      "[0 1 2 3 4 5 8 9] [6 7]\n"
     ]
    }
   ],
   "source": [
    "cv = KFold(n_splits = 5, shuffle = True)\n",
    "for tr_ix, te_ix in cv.split(X):\n",
    "    print (tr_ix, te_ix)"
   ]
  },
  {
   "cell_type": "markdown",
   "metadata": {},
   "source": [
    "### Equivalence"
   ]
  },
  {
   "cell_type": "code",
   "execution_count": 16,
   "metadata": {},
   "outputs": [
    {
     "name": "stdout",
     "output_type": "stream",
     "text": [
      "[0 2 3 4 5 6 8 9] [1 7]\n",
      "[0 1 2 3 4 5 7 8] [6 9]\n",
      "[0 1 2 3 5 6 7 9] [4 8]\n",
      "[1 2 4 5 6 7 8 9] [0 3]\n",
      "[0 1 3 4 6 7 8 9] [2 5]\n"
     ]
    }
   ],
   "source": [
    "cv = KFold(n_splits = 5, shuffle = True, random_state = 19)\n",
    "for tr_ix, te_ix in cv.split(X):\n",
    "    print (tr_ix, te_ix)"
   ]
  },
  {
   "cell_type": "code",
   "execution_count": 17,
   "metadata": {},
   "outputs": [
    {
     "name": "stdout",
     "output_type": "stream",
     "text": [
      "[0 2 3 4 5 6 8 9] [1 7]\n",
      "[0 1 2 3 4 5 7 8] [6 9]\n",
      "[0 1 2 3 5 6 7 9] [4 8]\n",
      "[1 2 4 5 6 7 8 9] [0 3]\n",
      "[0 1 3 4 6 7 8 9] [2 5]\n"
     ]
    }
   ],
   "source": [
    "np.random.seed(19)\n",
    "cv = KFold(n_splits = 5, shuffle = True)\n",
    "for tr_ix, te_ix in cv.split(X):\n",
    "    print (tr_ix, te_ix)"
   ]
  }
 ],
 "metadata": {
  "kernelspec": {
   "display_name": "Python 3",
   "language": "python",
   "name": "python3"
  },
  "language_info": {
   "codemirror_mode": {
    "name": "ipython",
    "version": 3
   },
   "file_extension": ".py",
   "mimetype": "text/x-python",
   "name": "python",
   "nbconvert_exporter": "python",
   "pygments_lexer": "ipython3",
   "version": "3.7.3"
  }
 },
 "nbformat": 4,
 "nbformat_minor": 2
}
